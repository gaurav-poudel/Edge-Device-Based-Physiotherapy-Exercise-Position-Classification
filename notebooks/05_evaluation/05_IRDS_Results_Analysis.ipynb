{
 "cells": [
  {
   "cell_type": "markdown",
   "metadata": {},
   "source": [
    "\n",
    "\n",
    "---\n",
    "\n",
    "## Objectives\n",
    "1. Evaluate model performance metrics\n",
    "2. Analyze confusion matrices\n",
    "3. Interpret feature importance\n",
    "4. Discuss clinical implications\n",
    "5. Address ethical considerations\n",
    "\n",
    "---"
   ]
  },
  {
   "cell_type": "code",
   "execution_count": null,
   "metadata": {},
   "outputs": [
    {
     "name": "stdout",
     "output_type": "stream",
     "text": [
      "Loading results and models...\n",
      "✓ Results loaded successfully\n",
      "\n",
      "Model Comparison Summary:\n",
      "       Algorithm      CV Accuracy  Test Accuracy  Precision  Recall  F1-Score  \\\n",
      "0            SVM  0.9981 ± 0.0018         1.0000      1.000  1.0000    1.0000   \n",
      "1            KNN  0.9971 ± 0.0028         1.0000      1.000  1.0000    1.0000   \n",
      "2  Random Forest  0.9704 ± 0.0064         0.9767      0.977  0.9767    0.9752   \n",
      "\n",
      "   Cohen's Kappa  Training Time (s)  \n",
      "0         1.0000               5.07  \n",
      "1         1.0000               0.48  \n",
      "2         0.9547              41.68  \n",
      "\n",
      "Computational Performance Summary:\n",
      "       Algorithm  Training Time (s)  Inference Time (ms)  Throughput (FPS)  \\\n",
      "0            SVM               5.07                 0.02           59410.2   \n",
      "1            KNN               0.48                 0.01           71209.4   \n",
      "2  Random Forest              41.68                 0.03           29521.3   \n",
      "\n",
      "   Model Size (MB) Memory Usage Suitable for Real-time  \n",
      "0             0.31       Medium                    Yes  \n",
      "1             1.81          Low                    Yes  \n",
      "2             2.93       Medium                    Yes  \n"
     ]
    }
   ],
   "source": [
    "# Imports\n",
    "import numpy as np\n",
    "import pandas as pd\n",
    "import matplotlib.pyplot as plt\n",
    "import seaborn as sns\n",
    "from pathlib import Path\n",
    "import pickle\n",
    "import warnings\n",
    "warnings.filterwarnings('ignore')\n",
    "\n",
    "# Setup paths\n",
    "MODELS_PATH = Path(\"../../results/models\")\n",
    "FIGURES_PATH = Path(\"../../results/figures\")\n",
    "PROCESSED_PATH = Path(\"../../data/processed\")\n",
    "\n",
    "\n",
    "plt.style.use('seaborn-v0_8-darkgrid')\n",
    "sns.set_palette('husl')\n",
    "\n",
    "print(\"Loading results and models...\")\n",
    "\n",
    "\n",
    "model_comparison = pd.read_csv(MODELS_PATH / 'model_comparison_results.csv')\n",
    "comp_performance = pd.read_csv(MODELS_PATH / 'computational_performance.csv')\n",
    "feature_importance = pd.read_csv(MODELS_PATH / 'feature_importances.csv')\n",
    "\n",
    "\n",
    "X_test = np.load(PROCESSED_PATH / 'X_test_pca.npy')\n",
    "y_test = np.load(PROCESSED_PATH / 'y_test_position.npy')\n",
    "test_metadata = pd.read_csv(PROCESSED_PATH / 'test_metadata.csv')\n",
    "\n",
    "print(\"✓ Results loaded successfully\")\n",
    "print(\"\\nModel Comparison Summary:\")\n",
    "print(model_comparison)\n",
    "\n",
    "print(\"\\nComputational Performance Summary:\")\n",
    "print(comp_performance)"
   ]
  },
  {
   "cell_type": "code",
   "execution_count": null,
   "metadata": {},
   "outputs": [],
   "source": []
  },
  {
   "cell_type": "code",
   "execution_count": null,
   "metadata": {},
   "outputs": [],
   "source": []
  },
  {
   "cell_type": "code",
   "execution_count": null,
   "metadata": {},
   "outputs": [],
   "source": []
  },
  {
   "cell_type": "code",
   "execution_count": null,
   "metadata": {},
   "outputs": [],
   "source": []
  },
  {
   "cell_type": "code",
   "execution_count": null,
   "metadata": {},
   "outputs": [],
   "source": []
  },
  {
   "cell_type": "code",
   "execution_count": null,
   "metadata": {},
   "outputs": [],
   "source": []
  }
 ],
 "metadata": {
  "kernelspec": {
   "display_name": "Python 3",
   "language": "python",
   "name": "python3"
  },
  "language_info": {
   "codemirror_mode": {
    "name": "ipython",
    "version": 3
   },
   "file_extension": ".py",
   "mimetype": "text/x-python",
   "name": "python",
   "nbconvert_exporter": "python",
   "pygments_lexer": "ipython3",
   "version": "3.8.20"
  }
 },
 "nbformat": 4,
 "nbformat_minor": 4
}
